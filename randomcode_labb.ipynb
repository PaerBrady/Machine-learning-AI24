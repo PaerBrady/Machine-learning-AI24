{
 "cells": [
  {
   "cell_type": "code",
   "execution_count": null,
   "metadata": {},
   "outputs": [],
   "source": [
    "cardio_counts = df_cardio[\"CVD\"].value_counts()\n",
    "print(f\"Distribution of Cardiovasculuar Disease:\\n{cardio_counts}\")\n"
   ]
  },
  {
   "cell_type": "code",
   "execution_count": null,
   "metadata": {},
   "outputs": [],
   "source": [
    "# Plotta en countplot för att se hur många som är sjuka och friska.\n",
    "sns.countplot(x=\"CVD\", data=df_cardio, palette=\"Set2\")\n",
    "plt.title(\"Cardiovascular Disease (CVD) Distribution\")\n",
    "plt.xlabel(\"CVD\")\n",
    "plt.ylabel(\"Observations\")\n",
    "plt.show()"
   ]
  },
  {
   "cell_type": "code",
   "execution_count": null,
   "metadata": {},
   "outputs": [],
   "source": [
    "\n",
    "# Räkna antalet observationer i varje kategori för kolesterol och sertera dem efter index.\n",
    "cholesterol_counts = df_cardio[\"cholesterol\"].value_counts().sort_index()\n",
    "\n",
    "# Beräkna andelen (i procent) för varje kategori\n",
    "cholesterol_percentages = round((cholesterol_counts / len(df) * 100), 1)\n",
    "print(f\"Cholesterol per Categhory in (%): \\n{cholesterol_percentages}\")\n",
    "\n",
    "# Skapa etiketter för dessa kategorier: 1 = Normalt, 2 = Över normalt, 3 = Långt över normalt\n",
    "labels = [\"Normal \", \"Above normal\", \"Way above normal\"]\n",
    "\n",
    "# Rita tårtdiagram\n",
    "# Kod-bit från: https://matplotlib.org/stable/gallery/pie_and_polar_charts/pie_features.html\n",
    "plt.pie(cholesterol_counts, labels=labels, autopct='%1.1f%%', startangle=90, colors=[\"#66c2a5\", \"#8da0cb\", \"#fc8d62\",])\n",
    "plt.axis('equal')\n",
    "plt.title('Cholesterol per Category')\n",
    "plt.show()\n"
   ]
  },
  {
   "cell_type": "code",
   "execution_count": null,
   "metadata": {},
   "outputs": [],
   "source": [
    "# Skapa en countplot för CVD på kön \n",
    "sns.countplot(x=\"gender_label\", data=df_cardio, hue=\"CVD\", palette=\"Set2\")\n",
    "plt.title(\"Share Cardiovasculuar Disease based on Gender\")\n",
    "plt.xlabel(\"Gender\")\n",
    "plt.ylabel(\"Observations\")\n",
    "plt.show()\n"
   ]
  },
  {
   "cell_type": "code",
   "execution_count": null,
   "metadata": {},
   "outputs": [],
   "source": [
    "from matplotlib import rcParams\n",
    "\n",
    "# Sätt storleken på plottear \n",
    "rcParams[\"figure.figsize\"] = 10, 6\n",
    "\n",
    "\n",
    "# Ändra värdena i kolumnen cardio till Yes och No\n",
    "df_cardio[\"CVD\"] = df_cardio[\"cardio\"].map({1: 'Yes', 0: 'No'}) # kodhjälp\" prompt\"XX\"\n",
    "\n",
    "# Plotta en countplot för att se hur många som har hjärt- och kärlsjukdomar\n",
    "rcParams[\"figure.figsize\"] = 10, 6\n",
    "df_cardio[\"age_years\"] = (df_cardio[\"age\"] / 365).round().astype(\"int\")\n",
    "sns.countplot(x=\"age_years\", hue=\"CVD\", data=df_cardio, palette=\"Set2\")\n",
    "plt.title(\"Distribution of Cardiovasculur Disease (CVD) by Age\")\n",
    "plt.xlabel(\"Age\")\n",
    "plt.ylabel(\"Observations\")\n",
    "plt.show()"
   ]
  },
  {
   "cell_type": "code",
   "execution_count": null,
   "metadata": {},
   "outputs": [],
   "source": [
    "sns.countplot(x='cardio', data=df, palette=\"Set2\", ax=ax[0, 0])\n",
    "ax[0, 0].set_title(\"Fördelning av hjärt-kärlsjukdom\")\n",
    "ax[0, 0].set_xlabel('Hjärt-kärlsjukdom')\n",
    "ax[0, 0].set_ylabel('Antal observationer')\n",
    "ax[0, 0].set_xticks([0, 0])\n",
    "ax[0, 0].set_xticklabels(['Negativ', 'Positiv'])\n",
    "\n",
    "df_sex = sns.countplot(x=\"gender\", hue= \"cardio\", data=df, palette=\"Set2\", ax=ax[2, 1])\n",
    "ax[2, 1].set_title(\"Könsfördelning och hjärt-kärlsjukdom\")\n",
    "ax[2, 1].set_xlabel(\"Kön\")\n",
    "ax[2, 1].set_ylabel(\"Antal observationer\")\n",
    "ax[2, 1].set_xticklabels([\"Kvinna\", \"Man\"])  \n",
    "\n",
    "ax[1, 0].pie(cholesterol_counts, labels=[\"Normal\", \"Över normalt\", \"Långt över normalt\"], autopct=\"%1.1f%%\")\n",
    "ax[1, 0].set_title(\"Kolesterolvärde\")\n",
    "# Sätter nya etiketter direkt\n",
    "\n",
    "#Prompt om jag även vill ändra hue=\"cardio\" så den visar titel: \"Hjärt och Kärlsjuk\" och istället för att visa 1 och 0 så visa Positiv och Negativ? \n",
    "# Hämta nuvarande legend och ändra dess etiketter och titel \n",
    "handles, labels = ax[2, 1].get_legend_handles_labels()\n",
    "# Vi antar att labels är ['0', '1'], mappa om dem:\n",
    "new_labels = ['Negativ' if lbl == '0' else 'Positiv' for lbl in labels]\n",
    "ax[2, 1].legend(handles=handles, labels=new_labels, title=\"Hjärt och Kärlsjuk\")\n"
   ]
  },
  {
   "cell_type": "code",
   "execution_count": null,
   "metadata": {},
   "outputs": [],
   "source": [
    "df_cardio.columns\n",
    "df_cardio[['ap_hi', 'ap_lo']].describe()"
   ]
  },
  {
   "cell_type": "code",
   "execution_count": null,
   "metadata": {},
   "outputs": [],
   "source": [
    "sns.boxplot(x=\"ap_lo\", data=df_cardio)\n",
    "plt.title(\"Diastolic Blood Pressure Distribution\") \n",
    "plt.xlabel(\"Diastolic Blood Pressure\")\n",
    "plt.tight_layout()\n",
    "plt.show()"
   ]
  },
  {
   "cell_type": "code",
   "execution_count": null,
   "metadata": {},
   "outputs": [],
   "source": [
    "# Räkna antalet negativa värden i 'ap_hi'\n",
    "negative_ap_hi_count = (df_cardio['ap_hi'] < 0).sum()\n",
    "print(\"Antal negativa värden i ap_hi:\", negative_ap_hi_count)\n",
    "\n",
    "# Räkna antalet negativa värden i 'ap_lo'\n",
    "negative_ap_lo_count = (df_cardio['ap_lo'] < 0).sum()\n",
    "print(\"Antal negativa värden i ap_lo:\", negative_ap_lo_count)\n",
    "\n",
    "# Ta bort negativa värden från df_cardio.\n",
    "df_cardio = df_cardio[(df_cardio['ap_hi'] >= 0) & (df_cardio['ap_lo'] >= 0)]\n",
    "\n",
    "# Kontrollera att negativa värden har tagits bort\n",
    "negative_ap_hi_count = (df_cardio['ap_hi'] < 0).sum()\n",
    "negative_ap_lo_count = (df_cardio['ap_lo'] < 0).sum()\n",
    "print(\"Antal negativa värden i ap_hi efter borttagning:\", negative_ap_hi_count)\n",
    "print(\"Antal negativa värden i ap_lo efter borttagning:\", negative_ap_lo_count)"
   ]
  },
  {
   "cell_type": "code",
   "execution_count": null,
   "metadata": {},
   "outputs": [],
   "source": [
    "# Skriv anatalet värden där diastoliskt överstiger systoliskt värde. \n",
    "print(\"Diastilic pressure is higher than systolic in {0} cases\".format(df_cardio[df_cardio['ap_lo']> df_cardio['ap_hi']].shape[0]))\n",
    "\n",
    "# Ta bort värden sär diastoliskt > systoliskt\n",
    "df_cardio = df_cardio[df_cardio['ap_lo'] <= df_cardio['ap_hi']]\n",
    "print(\"Antalet diastoliska värden som överstiger sysolsika värden efter borttagning i {0}\".format(df_cardio[df_cardio['ap_lo']> df_cardio['ap_hi']].shape[0]))\n"
   ]
  },
  {
   "cell_type": "code",
   "execution_count": null,
   "metadata": {},
   "outputs": [],
   "source": [
    "fig, ax = plt.subplots()\n",
    "sns.countplot(\n",
    "    x=\"bp_category\",      # The categorical variable\n",
    "    hue=\"CVD\",         # Split by cardio (0 or 1)\n",
    "    data=df_cardio, \n",
    "    palette=\"magma\", \n",
    "    ax=ax\n",
    ")\n",
    "ax.set_title(\"CVD per Blood Pressure Category\")\n",
    "ax.set_xlabel(\"Blood Pressure Category\")\n",
    "ax.set_ylabel(\"Number of Observations\")\n",
    "plt.show()"
   ]
  },
  {
   "cell_type": "code",
   "execution_count": null,
   "metadata": {},
   "outputs": [],
   "source": [
    "# 1. Count how many rows per (bp_category, cardio)\n",
    "grouped = df_cardio.groupby(['bp_category', 'CVD']).size().reset_index(name='count')\n",
    "\n",
    "# 2. Compute total rows per bp_category to get fraction\n",
    "totals = grouped.groupby('bp_category')['count'].transform('sum')\n",
    "grouped['proportion'] = grouped['count'] / totals\n",
    "\n",
    "# 3. Plot as grouped bar chart of proportions\n",
    "fig, ax = plt.subplots()\n",
    "sns.barplot(\n",
    "    x='bp_category', \n",
    "    y='proportion', \n",
    "    hue='CVD', \n",
    "    data=grouped, \n",
    "    palette='magma', \n",
    "    ax=ax\n",
    ")\n",
    "ax.set_title('Proportion of Heart Disease per Blood Pressure Category')\n",
    "ax.set_xlabel('Blodtryckskategori')\n",
    "ax.set_ylabel('Andel (proportion)')\n",
    "plt.tight_layout()\n",
    "plt.show()"
   ]
  },
  {
   "cell_type": "code",
   "execution_count": null,
   "metadata": {},
   "outputs": [],
   "source": [
    "# Sjuka i CVD\n",
    "cardio_pos = df_cardio[df_cardio[\"cardio\"] == 1]\n",
    "\n",
    "# skapa en countplot för sjuka i hjärt- och kärlsjukdomar per blodtryckskategori\n",
    "plt.figure(figsize=(10, 6))\n",
    "sns.countplot(data=cardio_pos, x=\"bp_category\", palette=\"Set2\")\n",
    "plt.title(\"CVD postive per Blood Pressure Category\")\n",
    "plt.xlabel(\"Blood Pressure Category\")\n",
    "plt.ylabel(\"Number of Observations\")\n",
    "plt.xticks(rotation=45)\n",
    "plt.show()\n",
    "\n",
    "# skapa en countplot per kön sjuka i hjärt- och kärlsjukdomar\n",
    "plt.figure(figsize=(10, 6))\n",
    "sns.countplot(data=cardio_pos, x=\"gender_label\", palette=\"Set2\")\n",
    "plt.title(\"CVD positive per gender\")\n",
    "plt.xlabel(\"Gender\")\n",
    "plt.ylabel(\"Number of Observations\")\n",
    "plt.xticks\n",
    "plt.show()"
   ]
  },
  {
   "cell_type": "code",
   "execution_count": null,
   "metadata": {},
   "outputs": [],
   "source": [
    "# Exempel: Andelen positiva för varje kolesterolkategori\n",
    "chol_frac = df_cardio.groupby('cholesterol')['cardio'].mean().reset_index()\n",
    "chol_frac.columns = ['cholesterol', 'fraction_positive']\n",
    "\n",
    "fig, axes = plt.subplots(4, 1, figsize=(14, 24))\n",
    "\n",
    "# Barplot 1: Blodtryckskategorier\n",
    "sns.barplot(x='bp_category', y='fraction_positive', hue='bp_category', data=bp_frac, ax=axes[0], palette='viridis', legend=False)\n",
    "axes[0].set_title('Andel positiva per blodtryckskategori')\n",
    "axes[0].set_xlabel('Blodtryckskategori')\n",
    "axes[0].set_ylabel('Andel positiva')\n",
    "\n",
    "# Barplot 2: BMI-kategorier\n",
    "sns.barplot(x='BMI_cat', y='fraction_positive', hue='BMI_cat', data=bmi_frac, ax=axes[1], palette='magma', legend=False)\n",
    "axes[1].set_title('Andel positiva per BMI-kategori')\n",
    "axes[1].set_xlabel('BMI-kategori')\n",
    "axes[1].set_ylabel('Andel positiva')\n",
    "\n",
    "# Barplot 3: Kolesterol\n",
    "sns.barplot(x='cholesterol', y='fraction_positive', hue='cholesterol', data=chol_frac, ax=axes[2], palette='viridis', legend=False)\n",
    "axes[2].set_title('Andel positiva per kolesterolkategori')\n",
    "axes[2].set_xlabel('Kolesterolkategori')\n",
    "axes[2].set_ylabel('Andel positiva')\n",
    "\n",
    "# Barplot 4: Kön\n",
    "sns.barplot(x=\"gender\", y=\"fraction_positive\", hue=\"gender\", data=sex_frac, ax=axes[3], palette=\"viridis\", legend=False)\n",
    "axes[3].set_title(\"Andel positiva per kön\")\n",
    "axes[3].set_xlabel(\"Kön\")\n",
    "axes[3].set_ylabel(\"Andel positiva\")\n",
    "\n",
    "plt.tight_layout()\n",
    "plt.show()"
   ]
  },
  {
   "cell_type": "code",
   "execution_count": null,
   "metadata": {},
   "outputs": [],
   "source": [
    "# Subplot 1: Countplot\n",
    "sns.countplot(\n",
    "    x=\"bp_category\", \n",
    "    hue=\"CVD\", \n",
    "    data=df_cardio, \n",
    "    palette=\"magma\", \n",
    "    ax=axes[0],\n",
    "    order=order\n",
    ")\n",
    "axes[0].set_title(\"CVD per Blood Pressure Category\")\n",
    "axes[0].set_xlabel(\"Blood Pressure Category\")\n",
    "axes[0].set_ylabel(\"Number of Observations\")"
   ]
  },
  {
   "cell_type": "code",
   "execution_count": null,
   "metadata": {},
   "outputs": [],
   "source": [
    "# 1. Beräkna korrelationsmatrisen¨\n",
    "corr_matrix = df_cardio.corr(numeric_only=True)  # numeric_only=True för att endast ta med numeriska kolumner\n",
    "\n",
    "# 2. Rita en heatmap\n",
    "plt.figure(figsize=(10, 8))\n",
    "sns.heatmap(corr_matrix, annot=True, cmap='coolwarm', fmt=\".2f\")\n",
    "plt.title('Korrelationsmatris')\n",
    "plt.show()"
   ]
  },
  {
   "cell_type": "code",
   "execution_count": null,
   "metadata": {},
   "outputs": [],
   "source": [
    "from sklearn.model_selection import train_test_split\n",
    "\n",
    "def prepare_data(df, target_col=\"cardio\", test_size=0.3, val_size=0.3, random_state=42, verbose=True):\n",
    "    # Separera features och target\n",
    "    X = df.drop(columns=[target_col])\n",
    "    y = df[target_col]\n",
    "    \n",
    "    # Första uppdelningen: träning och temporärt testset\n",
    "    X_train, X_temp, y_train, y_temp = train_test_split(\n",
    "        X, y, test_size=test_size, random_state=random_state)\n",
    "    \n",
    "    # Andra uppdelningen: validerings- och testset från det temporära setet\n",
    "    X_val, X_test, y_val, y_test = train_test_split(\n",
    "        X_temp, y_temp, test_size=val_size, random_state=random_state)\n",
    "    \n",
    "    if verbose:\n",
    "        print(\"Träningsset:\", X_train.shape, \"y_train:\", y_train.shape)\n",
    "        print(\"Valideringsset:\", X_val.shape, \"y_val:\", y_val.shape)\n",
    "        print(\"Testset:\", X_test.shape, \"y_test:\", y_test.shape)\n",
    "        \n",
    "    return X_train, X_val, X_test, y_train, y_val, y_test\n",
    "\n",
    "# Exempel på användning med verbose=True\n",
    "X_train1, X_val1, X_test1, y_train1, y_val1, y_test1 = prepare_data(df1, verbose=True)\n",
    "X_train2, X_val2, X_test2, y_train2, y_val2, y_test2 = prepare_data(df2, verbose=True)"
   ]
  }
 ],
 "metadata": {
  "language_info": {
   "name": "python"
  }
 },
 "nbformat": 4,
 "nbformat_minor": 2
}
