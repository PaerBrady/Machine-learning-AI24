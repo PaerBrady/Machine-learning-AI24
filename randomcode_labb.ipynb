{
 "cells": [
  {
   "cell_type": "code",
   "execution_count": null,
   "metadata": {},
   "outputs": [],
   "source": [
    "sns.countplot(x='cardio', data=df, palette=\"Set2\", ax=ax[0, 0])\n",
    "ax[0, 0].set_title(\"Fördelning av hjärt-kärlsjukdom\")\n",
    "ax[0, 0].set_xlabel('Hjärt-kärlsjukdom')\n",
    "ax[0, 0].set_ylabel('Antal observationer')\n",
    "ax[0, 0].set_xticks([0, 0])\n",
    "ax[0, 0].set_xticklabels(['Negativ', 'Positiv'])\n",
    "\n",
    "df_sex = sns.countplot(x=\"gender\", hue= \"cardio\", data=df, palette=\"Set2\", ax=ax[2, 1])\n",
    "ax[2, 1].set_title(\"Könsfördelning och hjärt-kärlsjukdom\")\n",
    "ax[2, 1].set_xlabel(\"Kön\")\n",
    "ax[2, 1].set_ylabel(\"Antal observationer\")\n",
    "ax[2, 1].set_xticklabels([\"Kvinna\", \"Man\"])  \n",
    "\n",
    "ax[1, 0].pie(cholesterol_counts, labels=[\"Normal\", \"Över normalt\", \"Långt över normalt\"], autopct=\"%1.1f%%\")\n",
    "ax[1, 0].set_title(\"Kolesterolvärde\")\n",
    "# Sätter nya etiketter direkt\n",
    "\n",
    "#Prompt om jag även vill ändra hue=\"cardio\" så den visar titel: \"Hjärt och Kärlsjuk\" och istället för att visa 1 och 0 så visa Positiv och Negativ? \n",
    "# Hämta nuvarande legend och ändra dess etiketter och titel \n",
    "handles, labels = ax[2, 1].get_legend_handles_labels()\n",
    "# Vi antar att labels är ['0', '1'], mappa om dem:\n",
    "new_labels = ['Negativ' if lbl == '0' else 'Positiv' for lbl in labels]\n",
    "ax[2, 1].legend(handles=handles, labels=new_labels, title=\"Hjärt och Kärlsjuk\")\n"
   ]
  }
 ],
 "metadata": {
  "language_info": {
   "name": "python"
  }
 },
 "nbformat": 4,
 "nbformat_minor": 2
}
