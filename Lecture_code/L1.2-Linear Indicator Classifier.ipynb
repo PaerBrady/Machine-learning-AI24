{
 "cells": [
  {
   "cell_type": "markdown",
   "metadata": {},
   "source": [
    "Ett företag har fått in ett större parti av två typer färg. De har olika användningsområden men är mycket snarlika. Tyvärr har typerna blandats ihop i lagret och burkarna har ingen etikett. Ett mindre parti som ställdes undan vid avlastning har dock känd typ.\n",
    "\n",
    "Vår uppgift är att, givet denna mindre kända mängd typer utveckla ett program som kan klassifiera en okänd färg genom att mäta luftfuktigheten och färgens avdunstning. Tanken är att testa många färger samtidigt-- den biten har de på golvet redan löst. Allt som saknas är en klassifikator."
   ]
  },
  {
   "cell_type": "code",
   "execution_count": 64,
   "metadata": {},
   "outputs": [
    {
     "data": {
      "text/html": [
       "<div>\n",
       "<style scoped>\n",
       "    .dataframe tbody tr th:only-of-type {\n",
       "        vertical-align: middle;\n",
       "    }\n",
       "\n",
       "    .dataframe tbody tr th {\n",
       "        vertical-align: top;\n",
       "    }\n",
       "\n",
       "    .dataframe thead th {\n",
       "        text-align: right;\n",
       "    }\n",
       "</style>\n",
       "<table border=\"1\" class=\"dataframe\">\n",
       "  <thead>\n",
       "    <tr style=\"text-align: right;\">\n",
       "      <th></th>\n",
       "      <th>Relative humidity (%)</th>\n",
       "      <th>type</th>\n",
       "      <th>Evaporation (% wt)</th>\n",
       "    </tr>\n",
       "  </thead>\n",
       "  <tbody>\n",
       "    <tr>\n",
       "      <th>0</th>\n",
       "      <td>35.3</td>\n",
       "      <td>1</td>\n",
       "      <td>11.2</td>\n",
       "    </tr>\n",
       "    <tr>\n",
       "      <th>1</th>\n",
       "      <td>29.6</td>\n",
       "      <td>1</td>\n",
       "      <td>11.0</td>\n",
       "    </tr>\n",
       "    <tr>\n",
       "      <th>2</th>\n",
       "      <td>31.0</td>\n",
       "      <td>1</td>\n",
       "      <td>12.6</td>\n",
       "    </tr>\n",
       "    <tr>\n",
       "      <th>3</th>\n",
       "      <td>58.0</td>\n",
       "      <td>1</td>\n",
       "      <td>8.3</td>\n",
       "    </tr>\n",
       "    <tr>\n",
       "      <th>4</th>\n",
       "      <td>62.0</td>\n",
       "      <td>1</td>\n",
       "      <td>10.1</td>\n",
       "    </tr>\n",
       "  </tbody>\n",
       "</table>\n",
       "</div>"
      ],
      "text/plain": [
       "   Relative humidity (%)  type  Evaporation (% wt)\n",
       "0                   35.3     1                11.2\n",
       "1                   29.6     1                11.0\n",
       "2                   31.0     1                12.6\n",
       "3                   58.0     1                 8.3\n",
       "4                   62.0     1                10.1"
      ]
     },
     "execution_count": 64,
     "metadata": {},
     "output_type": "execute_result"
    }
   ],
   "source": [
    "import pandas as pd\n",
    "import numpy as np\n",
    "import seaborn as sns\n",
    "import scipy.stats as stats\n",
    "import matplotlib.pyplot as plt\n",
    "\n",
    "df = pd.read_csv(\"../data/paint.csv\")\n",
    "\n",
    "df.head()\n"
   ]
  },
  {
   "cell_type": "markdown",
   "metadata": {},
   "source": [
    "Vi börjar med EDA. Bland de kända färgerna finns alltså två typer och deras avdunstning har testats vid olika luftfuktigheter."
   ]
  },
  {
   "cell_type": "code",
   "execution_count": 65,
   "metadata": {},
   "outputs": [
    {
     "name": "stdout",
     "output_type": "stream",
     "text": [
      "<class 'pandas.core.frame.DataFrame'>\n",
      "RangeIndex: 31 entries, 0 to 30\n",
      "Data columns (total 3 columns):\n",
      " #   Column                 Non-Null Count  Dtype  \n",
      "---  ------                 --------------  -----  \n",
      " 0   Relative humidity (%)  31 non-null     float64\n",
      " 1   type                   31 non-null     int64  \n",
      " 2   Evaporation (% wt)     31 non-null     float64\n",
      "dtypes: float64(2), int64(1)\n",
      "memory usage: 876.0 bytes\n"
     ]
    }
   ],
   "source": [
    "df.info()"
   ]
  },
  {
   "cell_type": "code",
   "execution_count": 66,
   "metadata": {},
   "outputs": [
    {
     "data": {
      "text/html": [
       "<div>\n",
       "<style scoped>\n",
       "    .dataframe tbody tr th:only-of-type {\n",
       "        vertical-align: middle;\n",
       "    }\n",
       "\n",
       "    .dataframe tbody tr th {\n",
       "        vertical-align: top;\n",
       "    }\n",
       "\n",
       "    .dataframe thead th {\n",
       "        text-align: right;\n",
       "    }\n",
       "</style>\n",
       "<table border=\"1\" class=\"dataframe\">\n",
       "  <thead>\n",
       "    <tr style=\"text-align: right;\">\n",
       "      <th></th>\n",
       "      <th>count</th>\n",
       "      <th>mean</th>\n",
       "      <th>std</th>\n",
       "      <th>min</th>\n",
       "      <th>25%</th>\n",
       "      <th>50%</th>\n",
       "      <th>75%</th>\n",
       "      <th>max</th>\n",
       "    </tr>\n",
       "  </thead>\n",
       "  <tbody>\n",
       "    <tr>\n",
       "      <th>Relative humidity (%)</th>\n",
       "      <td>31.0</td>\n",
       "      <td>52.470968</td>\n",
       "      <td>16.479972</td>\n",
       "      <td>28.0</td>\n",
       "      <td>37.2</td>\n",
       "      <td>56.0</td>\n",
       "      <td>70.0</td>\n",
       "      <td>77.0</td>\n",
       "    </tr>\n",
       "    <tr>\n",
       "      <th>type</th>\n",
       "      <td>31.0</td>\n",
       "      <td>0.516129</td>\n",
       "      <td>0.508001</td>\n",
       "      <td>0.0</td>\n",
       "      <td>0.0</td>\n",
       "      <td>1.0</td>\n",
       "      <td>1.0</td>\n",
       "      <td>1.0</td>\n",
       "    </tr>\n",
       "    <tr>\n",
       "      <th>Evaporation (% wt)</th>\n",
       "      <td>31.0</td>\n",
       "      <td>8.022581</td>\n",
       "      <td>2.461667</td>\n",
       "      <td>4.0</td>\n",
       "      <td>6.0</td>\n",
       "      <td>8.0</td>\n",
       "      <td>9.3</td>\n",
       "      <td>13.0</td>\n",
       "    </tr>\n",
       "  </tbody>\n",
       "</table>\n",
       "</div>"
      ],
      "text/plain": [
       "                       count       mean        std   min   25%   50%   75%  \\\n",
       "Relative humidity (%)   31.0  52.470968  16.479972  28.0  37.2  56.0  70.0   \n",
       "type                    31.0   0.516129   0.508001   0.0   0.0   1.0   1.0   \n",
       "Evaporation (% wt)      31.0   8.022581   2.461667   4.0   6.0   8.0   9.3   \n",
       "\n",
       "                        max  \n",
       "Relative humidity (%)  77.0  \n",
       "type                    1.0  \n",
       "Evaporation (% wt)     13.0  "
      ]
     },
     "execution_count": 66,
     "metadata": {},
     "output_type": "execute_result"
    }
   ],
   "source": [
    "df.describe().T"
   ]
  },
  {
   "cell_type": "markdown",
   "metadata": {},
   "source": [
    "Vi delar upp datan efter typ för att se om det verkligen finns en skillnad mellan de två."
   ]
  },
  {
   "cell_type": "code",
   "execution_count": 67,
   "metadata": {},
   "outputs": [
    {
     "data": {
      "text/plain": [
       "<matplotlib.collections.PathCollection at 0x7f53ddcbd710>"
      ]
     },
     "execution_count": 67,
     "metadata": {},
     "output_type": "execute_result"
    },
    {
     "data": {
      "image/png": "[encoded data removed]",
      "text/plain": [
       "<Figure size 640x480 with 1 Axes>"
      ]
     },
     "metadata": {},
     "output_type": "display_data"
    }
   ],
   "source": [
    "splitA = df[df[\"type\"] == 1]\n",
    "splitB = df[df[\"type\"] == 0]\n",
    "splitA, splitB\n",
    "X_A = splitA[\"Relative humidity (%)\"]\n",
    "X_B = splitB[\"Relative humidity (%)\"]\n",
    "Y_A = splitA[\"Evaporation (% wt)\"]\n",
    "Y_B = splitB[\"Evaporation (% wt)\"]\n",
    "plt.scatter(X_A, Y_A)\n",
    "plt.scatter(X_B, Y_B)"
   ]
  },
  {
   "cell_type": "markdown",
   "metadata": {},
   "source": [
    "Ja, det ser ju definitivt ut som att datan kommer i två grupper. Vi prövar först med enkel linjär regression för att se \"hur dåligt\" det blir. \n",
    "\n",
    "Eftersom detta handlar om att reagera på okänd data är det väldigt viktigt att vi delar upp i tränings- och testdata. "
   ]
  },
  {
   "cell_type": "code",
   "execution_count": 68,
   "metadata": {},
   "outputs": [
    {
     "data": {
      "text/plain": [
       "<AxesSubplot: xlabel='Relative humidity (%)', ylabel='Evaporation (% wt)'>"
      ]
     },
     "execution_count": 68,
     "metadata": {},
     "output_type": "execute_result"
    },
    {
     "data": {
      "image/png": "[encoded data removed]",
      "text/plain": [
       "<Figure size 640x480 with 1 Axes>"
      ]
     },
     "metadata": {},
     "output_type": "display_data"
    }
   ],
   "source": [
    "test = df.sample(frac=0.4, random_state=42, replace=False)\n",
    "df = df.drop(test.index)\n",
    "\n",
    "Y = df[\"Evaporation (% wt)\"]\n",
    "\n",
    "X = df[\"Relative humidity (%)\"]\n",
    "\n",
    "df.insert(0, \"Intercept\", 1)\n",
    "\n",
    "sns.regplot(x = X, y = Y)"
   ]
  },
  {
   "cell_type": "markdown",
   "metadata": {},
   "source": [
    "Inte så imponerande. Ganska många datapunkter hamnar utanför det skuggade konfidensintervallet.\n",
    "\n",
    "Istället prövar vi med en multipel linjär regression med en indikatorvariabel för typ."
   ]
  },
  {
   "cell_type": "code",
   "execution_count": 69,
   "metadata": {},
   "outputs": [],
   "source": [
    "X = df.drop(\"Evaporation (% wt)\", axis=\"columns\")"
   ]
  },
  {
   "cell_type": "code",
   "execution_count": 70,
   "metadata": {},
   "outputs": [
    {
     "data": {
      "text/plain": [
       "0    10.523168\n",
       "1    -0.080404\n",
       "2     3.341150\n",
       "dtype: float64"
      ]
     },
     "execution_count": 70,
     "metadata": {},
     "output_type": "execute_result"
    }
   ],
   "source": [
    "b = np.linalg.inv(X.T @ X) @ X.T @ Y\n",
    "b"
   ]
  },
  {
   "cell_type": "markdown",
   "metadata": {},
   "source": [
    "Hur bra blev det? Var det vettigt att inkludera typ? Det borde vara det, men hur motiverar vi det? Single variable predictor test!\n",
    "\n",
    "Vi har en så begränsad mängd kända exempel att det är värt att räkna på statistiken, tex signifikanstest och förklaringsgrad."
   ]
  },
  {
   "cell_type": "code",
   "execution_count": 71,
   "metadata": {},
   "outputs": [
    {
     "data": {
      "text/plain": [
       "8.061041681469357e-07"
      ]
     },
     "execution_count": 71,
     "metadata": {},
     "output_type": "execute_result"
    }
   ],
   "source": [
    "X = X.to_numpy()\n",
    "Y = Y.to_numpy()\n",
    "v = len(b)-1\n",
    "n = len(Y)\n",
    "SSE = np.sum(np.square(Y - (X @ b)))\n",
    "var = SSE/(n-v-1)\n",
    "S = np.sqrt(var)\n",
    "\n",
    "# Regression sum of squares, total variance\n",
    "SSR = np.sum(b*(X.T @ Y)) - (np.square(np.sum(Y))/n)\n",
    "Syy = np.sum(np.square(Y)) - (np.square(np.sum(Y))/n)\n",
    "\n",
    "# Significant regression test, test rejects for large values\n",
    "sig_statistic = (SSR/v)/var\n",
    "\n",
    "# P score for H0 in significance test is very close to 0,\n",
    "# -- we reject the hypothesis that no variable is relevant\n",
    "p_sig = stats.f.sf(sig_statistic, v, n-v-1)\n",
    "\n",
    "p_sig"
   ]
  },
  {
   "cell_type": "code",
   "execution_count": 72,
   "metadata": {},
   "outputs": [
    {
     "data": {
      "text/plain": [
       "0.8268992714100364"
      ]
     },
     "execution_count": 72,
     "metadata": {},
     "output_type": "execute_result"
    }
   ],
   "source": [
    "Rsq = SSR/Syy\n",
    "\n",
    "Rsq"
   ]
  },
  {
   "cell_type": "code",
   "execution_count": 73,
   "metadata": {},
   "outputs": [
    {
     "name": "stdout",
     "output_type": "stream",
     "text": [
      "6.244978407925234e-05\n"
     ]
    }
   ],
   "source": [
    "c = np.linalg.inv(X.T @ X) * var\n",
    "\n",
    "# Is there is no observer bias?\n",
    "b2_statistic = b[2] / (S*np.sqrt(c[2, 2]))\n",
    "# Two-sided test (rejects for large or small)\n",
    "p_b2 = 2 * min(stats.t.cdf(b2_statistic, n-v-1), stats.t.sf(b2_statistic, n-v-1))\n",
    "print(p_b2)"
   ]
  },
  {
   "cell_type": "markdown",
   "metadata": {},
   "source": [
    "Det gick ju fint. Det finns verkligen en typskillnad, vilket vi nu motiverat med statistik."
   ]
  },
  {
   "cell_type": "code",
   "execution_count": 74,
   "metadata": {},
   "outputs": [
    {
     "name": "stdout",
     "output_type": "stream",
     "text": [
      "[[29.6]\n",
      " [31. ]\n",
      " [58. ]\n",
      " [72.1]\n",
      " [74. ]\n",
      " [77. ]\n",
      " [46.4]\n",
      " [29.6]\n",
      " [56. ]\n",
      " [29.3]\n",
      " [48.5]\n",
      " [59.3]\n",
      " [70. ]\n",
      " [70. ]\n",
      " [74.4]\n",
      " [44.6]\n",
      " [33.4]\n",
      " [59.1]\n",
      " [47. ]]\n"
     ]
    },
    {
     "data": {
      "image/png": "[encoded data removed]",
      "text/plain": [
       "<Figure size 640x480 with 1 Axes>"
      ]
     },
     "metadata": {},
     "output_type": "display_data"
    }
   ],
   "source": [
    "modA = np.append(b[0] + b[2], b[1:2])\n",
    "modB = b[0:2]\n",
    "Xr = X[:, 0:2]\n",
    "print(Xr)\n",
    "x = Xr[:, 1:2]\n",
    "plt.scatter(x, Y)\n",
    "plt.plot(x, Xr @ modA)\n",
    "plt.plot(x, Xr @ modB)\n",
    "\n",
    "print(x)"
   ]
  },
  {
   "cell_type": "markdown",
   "metadata": {},
   "source": [
    "Låt oss nu köra test datan. Har vi lurat oss att det är bra, eller fungerar det med tidigare okänd data också?"
   ]
  },
  {
   "cell_type": "code",
   "execution_count": 75,
   "metadata": {},
   "outputs": [
    {
     "name": "stdout",
     "output_type": "stream",
     "text": [
      "Test A 0.15302312185196953 0.1480290389664886 0.38474542098183395\n",
      "Test B 0.13025417901202663 0.08210218801792284 0.2865347937300509\n",
      "Fel modell 1.068123410622088 3.694375885968244 1.922075931374264\n",
      "Varians 1.3319873300880196\n"
     ]
    },
    {
     "data": {
      "image/png": "[encoded data removed]",
      "text/plain": [
       "<Figure size 640x480 with 1 Axes>"
      ]
     },
     "metadata": {},
     "output_type": "display_data"
    }
   ],
   "source": [
    "testA = test[test[\"type\"] == 1]\n",
    "x_test = testA[\"Relative humidity (%)\"]\n",
    "Y_test = testA[\"Evaporation (% wt)\"]\n",
    "testA = testA.drop([\"type\", \"Evaporation (% wt)\"], axis=\"columns\")\n",
    "testA.insert(0, \"Intercept\", 1)\n",
    "X_test = testA.to_numpy()\n",
    "plt.scatter(x_test, Y_test)\n",
    "plt.plot(x_test, X_test @ modA)\n",
    "MAE = 1 / n * np.sum(np.abs(Y_test - (X_test @ modA)))\n",
    "MSE = 1 / n * np.sum((Y_test - (X_test @ modA)) ** 2)\n",
    "RMSE = np.sqrt(MSE)\n",
    "\n",
    "\n",
    "testB = test[test[\"type\"] == 0]\n",
    "x_test = testB[\"Relative humidity (%)\"]\n",
    "Y_test = testB[\"Evaporation (% wt)\"]\n",
    "testB = testB.drop([\"type\", \"Evaporation (% wt)\"], axis=\"columns\")\n",
    "testB.insert(0, \"Intercept\", 1)\n",
    "X_test = testB.to_numpy()\n",
    "plt.scatter(x_test, Y_test)\n",
    "plt.plot(x_test, X_test @ modB)\n",
    "\n",
    "MAEB = 1 / n * np.sum(np.abs(Y_test - (X_test @ modB)))\n",
    "MSEB = 1 / n * np.sum((Y_test - (X_test @ modB)) ** 2)\n",
    "RMSEB = np.sqrt(MSEB)\n",
    "print(\"Test A\", MAE, MSE, RMSE)\n",
    "print(\"Test B\", MAEB, MSEB, RMSEB)\n",
    "print(\"Fel modell\", 1 / n * np.sum(np.abs(Y_test - (X_test @ modA))),\n",
    "      1 / n * np.sum((Y_test - (X_test @ modA)) ** 2), \n",
    "      np.sqrt(1 / n * np.sum((Y_test - (X_test @ modA)) ** 2)))\n",
    "print(\"Varians\", var)\n"
   ]
  },
  {
   "cell_type": "markdown",
   "metadata": {},
   "source": [
    "Regressionen verkar gå bra, men nu skall vi ju klassifiera. Hur gör vi då? Jo, vi mäter helt enkelt luftfuktighet och avdunstning -- sedan förutsäger vi vad avdunstningen borde vara med vardera modell. Vi säger att det uppmätta värdet tillhör typen som gäller för den närmsta regressionslinjen (dvs de förutsagda värdena). Notera att vi kvadrerar avståndet för att överdriva större avstånd."
   ]
  },
  {
   "cell_type": "code",
   "execution_count": 76,
   "metadata": {},
   "outputs": [
    {
     "name": "stdout",
     "output_type": "stream",
     "text": [
      "Alla klassifikationer i test korrekta? True\n"
     ]
    }
   ],
   "source": [
    "\n",
    "def classify(x, y):\n",
    "    row_x = [1.0, x]\n",
    "    ea_sq = np.square(y - np.dot(row_x, modA))\n",
    "    eb_sq = np.square(y - np.dot(row_x, modB))\n",
    "    return ea_sq < eb_sq\n",
    "\n",
    "# classify\n",
    "Y = test[\"Evaporation (% wt)\"]\n",
    "X = test[\"Relative humidity (%)\"]\n",
    "T = test[\"type\"]\n",
    "correct = True\n",
    "for i, x in enumerate(X):\n",
    "    correct &= T.iloc[i] == classify(x, Y.iloc[i])\n",
    "print(f\"Alla klassifikationer i test korrekta? {correct}\")"
   ]
  },
  {
   "cell_type": "markdown",
   "metadata": {},
   "source": [
    "Se där. Alla punkter i testdatan klassifierades korrekt. Inte illa för en så liten datamängd!"
   ]
  }
 ],
 "metadata": {
  "kernelspec": {
   "display_name": "Python 3",
   "language": "python",
   "name": "python3"
  },
  "language_info": {
   "codemirror_mode": {
    "name": "ipython",
    "version": 3
   },
   "file_extension": ".py",
   "mimetype": "text/x-python",
   "name": "python",
   "nbconvert_exporter": "python",
   "pygments_lexer": "ipython3",
   "version": "3.11.2"
  }
 },
 "nbformat": 4,
 "nbformat_minor": 2
}
