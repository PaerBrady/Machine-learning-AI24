{
 "cells": [
  {
   "cell_type": "markdown",
   "metadata": {},
   "source": [
    "Minsta kvadratmetoden är ett specialfall av maximum - liklehood metoden.\n",
    "\n",
    "formel(se anteckningar)\n",
    "\n",
    "Då fungerar inte längre formeln för b som vi hade för linjär reggression. \n",
    "\n",
    "Vi måste hitta ett annat sätt att optimera över kostndasfunktionen. \n",
    "\n",
    "(CGPT)\n",
    "Minsta kvadratmetoden används för att uppskatta parametrarna i en regressionsmodell genom att minimera summan av kvadrerade residualer:\n",
    "\n",
    "\n",
    "S(\\beta) = \\sum_{i=1}^{n} (y_i - X_i\\beta)^2\n",
    "\n",
    "\n",
    "Där:\n",
    "\t•\t y_i  är det observerade värdet,\n",
    "\t•\t X_i\\beta  är det förväntade värdet enligt modellen,\n",
    "\t•\t \\beta  är parametervektorn vi vill estimera.\n",
    "\n",
    "Den här metoden fungerar väl när felen  \\varepsilon_i  är normalfördelade med medelvärde  0  och konstant varians  \\sigma^2 .\n"
   ]
  },
  {
   "cell_type": "markdown",
   "metadata": {},
   "source": [
    "#Se anteckningar "
   ]
  },
  {
   "cell_type": "markdown",
   "metadata": {},
   "source": [
    "#Gradient Decent"
   ]
  }
 ],
 "metadata": {
  "language_info": {
   "name": "python"
  }
 },
 "nbformat": 4,
 "nbformat_minor": 2
}
