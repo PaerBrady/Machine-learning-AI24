{
 "cells": [
  {
   "cell_type": "code",
   "execution_count": 5,
   "metadata": {},
   "outputs": [
    {
     "data": {
      "text/html": [
       "<div>\n",
       "<style scoped>\n",
       "    .dataframe tbody tr th:only-of-type {\n",
       "        vertical-align: middle;\n",
       "    }\n",
       "\n",
       "    .dataframe tbody tr th {\n",
       "        vertical-align: top;\n",
       "    }\n",
       "\n",
       "    .dataframe thead th {\n",
       "        text-align: right;\n",
       "    }\n",
       "</style>\n",
       "<table border=\"1\" class=\"dataframe\">\n",
       "  <thead>\n",
       "    <tr style=\"text-align: right;\">\n",
       "      <th></th>\n",
       "      <th>Volume</th>\n",
       "      <th>Daily</th>\n",
       "      <th>Volatility</th>\n",
       "      <th>Lag1</th>\n",
       "      <th>Lag2</th>\n",
       "      <th>Lag3</th>\n",
       "      <th>Lag4</th>\n",
       "      <th>Lag5</th>\n",
       "    </tr>\n",
       "    <tr>\n",
       "      <th>Date</th>\n",
       "      <th></th>\n",
       "      <th></th>\n",
       "      <th></th>\n",
       "      <th></th>\n",
       "      <th></th>\n",
       "      <th></th>\n",
       "      <th></th>\n",
       "      <th></th>\n",
       "    </tr>\n",
       "  </thead>\n",
       "  <tbody>\n",
       "    <tr>\n",
       "      <th>2020-04-02 00:00:00-04:00</th>\n",
       "      <td>6464190000</td>\n",
       "      <td>2.705286</td>\n",
       "      <td>0.030566</td>\n",
       "      <td>0.000000</td>\n",
       "      <td>0.000000</td>\n",
       "      <td>0.000000</td>\n",
       "      <td>0.000000</td>\n",
       "      <td>0.000000</td>\n",
       "    </tr>\n",
       "    <tr>\n",
       "      <th>2020-04-03 00:00:00-04:00</th>\n",
       "      <td>6096970000</td>\n",
       "      <td>-1.055593</td>\n",
       "      <td>0.030817</td>\n",
       "      <td>2.705286</td>\n",
       "      <td>0.000000</td>\n",
       "      <td>0.000000</td>\n",
       "      <td>0.000000</td>\n",
       "      <td>0.000000</td>\n",
       "    </tr>\n",
       "    <tr>\n",
       "      <th>2020-04-06 00:00:00-04:00</th>\n",
       "      <td>6403840000</td>\n",
       "      <td>3.206087</td>\n",
       "      <td>0.038209</td>\n",
       "      <td>-1.055593</td>\n",
       "      <td>2.705286</td>\n",
       "      <td>0.000000</td>\n",
       "      <td>0.000000</td>\n",
       "      <td>0.000000</td>\n",
       "    </tr>\n",
       "    <tr>\n",
       "      <th>2020-04-07 00:00:00-04:00</th>\n",
       "      <td>7050410000</td>\n",
       "      <td>-2.979608</td>\n",
       "      <td>0.035990</td>\n",
       "      <td>3.206087</td>\n",
       "      <td>-1.055593</td>\n",
       "      <td>2.705286</td>\n",
       "      <td>0.000000</td>\n",
       "      <td>0.000000</td>\n",
       "    </tr>\n",
       "    <tr>\n",
       "      <th>2020-04-08 00:00:00-04:00</th>\n",
       "      <td>5875710000</td>\n",
       "      <td>2.362926</td>\n",
       "      <td>0.035298</td>\n",
       "      <td>-2.979608</td>\n",
       "      <td>3.206087</td>\n",
       "      <td>-1.055593</td>\n",
       "      <td>2.705286</td>\n",
       "      <td>0.000000</td>\n",
       "    </tr>\n",
       "    <tr>\n",
       "      <th>...</th>\n",
       "      <td>...</td>\n",
       "      <td>...</td>\n",
       "      <td>...</td>\n",
       "      <td>...</td>\n",
       "      <td>...</td>\n",
       "      <td>...</td>\n",
       "      <td>...</td>\n",
       "      <td>...</td>\n",
       "    </tr>\n",
       "    <tr>\n",
       "      <th>2025-03-26 00:00:00-04:00</th>\n",
       "      <td>4183140000</td>\n",
       "      <td>-1.040929</td>\n",
       "      <td>0.015425</td>\n",
       "      <td>0.011944</td>\n",
       "      <td>0.858069</td>\n",
       "      <td>0.649840</td>\n",
       "      <td>0.282015</td>\n",
       "      <td>0.756260</td>\n",
       "    </tr>\n",
       "    <tr>\n",
       "      <th>2025-03-27 00:00:00-04:00</th>\n",
       "      <td>4403460000</td>\n",
       "      <td>-0.040927</td>\n",
       "      <td>0.010701</td>\n",
       "      <td>-1.040929</td>\n",
       "      <td>0.011944</td>\n",
       "      <td>0.858069</td>\n",
       "      <td>0.649840</td>\n",
       "      <td>0.282015</td>\n",
       "    </tr>\n",
       "    <tr>\n",
       "      <th>2025-03-28 00:00:00-04:00</th>\n",
       "      <td>4513330000</td>\n",
       "      <td>-1.760640</td>\n",
       "      <td>0.019956</td>\n",
       "      <td>-0.040927</td>\n",
       "      <td>-1.040929</td>\n",
       "      <td>0.011944</td>\n",
       "      <td>0.858069</td>\n",
       "      <td>0.649840</td>\n",
       "    </tr>\n",
       "    <tr>\n",
       "      <th>2025-03-31 00:00:00-04:00</th>\n",
       "      <td>5257250000</td>\n",
       "      <td>1.495762</td>\n",
       "      <td>0.024670</td>\n",
       "      <td>-1.760640</td>\n",
       "      <td>-0.040927</td>\n",
       "      <td>-1.040929</td>\n",
       "      <td>0.011944</td>\n",
       "      <td>0.858069</td>\n",
       "    </tr>\n",
       "    <tr>\n",
       "      <th>2025-04-01 00:00:00-04:00</th>\n",
       "      <td>4434500000</td>\n",
       "      <td>0.630918</td>\n",
       "      <td>0.016290</td>\n",
       "      <td>1.495762</td>\n",
       "      <td>-1.760640</td>\n",
       "      <td>-0.040927</td>\n",
       "      <td>-1.040929</td>\n",
       "      <td>0.011944</td>\n",
       "    </tr>\n",
       "  </tbody>\n",
       "</table>\n",
       "<p>1256 rows × 8 columns</p>\n",
       "</div>"
      ],
      "text/plain": [
       "                               Volume     Daily  Volatility      Lag1  \\\n",
       "Date                                                                    \n",
       "2020-04-02 00:00:00-04:00  6464190000  2.705286    0.030566  0.000000   \n",
       "2020-04-03 00:00:00-04:00  6096970000 -1.055593    0.030817  2.705286   \n",
       "2020-04-06 00:00:00-04:00  6403840000  3.206087    0.038209 -1.055593   \n",
       "2020-04-07 00:00:00-04:00  7050410000 -2.979608    0.035990  3.206087   \n",
       "2020-04-08 00:00:00-04:00  5875710000  2.362926    0.035298 -2.979608   \n",
       "...                               ...       ...         ...       ...   \n",
       "2025-03-26 00:00:00-04:00  4183140000 -1.040929    0.015425  0.011944   \n",
       "2025-03-27 00:00:00-04:00  4403460000 -0.040927    0.010701 -1.040929   \n",
       "2025-03-28 00:00:00-04:00  4513330000 -1.760640    0.019956 -0.040927   \n",
       "2025-03-31 00:00:00-04:00  5257250000  1.495762    0.024670 -1.760640   \n",
       "2025-04-01 00:00:00-04:00  4434500000  0.630918    0.016290  1.495762   \n",
       "\n",
       "                               Lag2      Lag3      Lag4      Lag5  \n",
       "Date                                                               \n",
       "2020-04-02 00:00:00-04:00  0.000000  0.000000  0.000000  0.000000  \n",
       "2020-04-03 00:00:00-04:00  0.000000  0.000000  0.000000  0.000000  \n",
       "2020-04-06 00:00:00-04:00  2.705286  0.000000  0.000000  0.000000  \n",
       "2020-04-07 00:00:00-04:00 -1.055593  2.705286  0.000000  0.000000  \n",
       "2020-04-08 00:00:00-04:00  3.206087 -1.055593  2.705286  0.000000  \n",
       "...                             ...       ...       ...       ...  \n",
       "2025-03-26 00:00:00-04:00  0.858069  0.649840  0.282015  0.756260  \n",
       "2025-03-27 00:00:00-04:00  0.011944  0.858069  0.649840  0.282015  \n",
       "2025-03-28 00:00:00-04:00 -1.040929  0.011944  0.858069  0.649840  \n",
       "2025-03-31 00:00:00-04:00 -0.040927 -1.040929  0.011944  0.858069  \n",
       "2025-04-01 00:00:00-04:00 -1.760640 -0.040927 -1.040929  0.011944  \n",
       "\n",
       "[1256 rows x 8 columns]"
      ]
     },
     "execution_count": 5,
     "metadata": {},
     "output_type": "execute_result"
    }
   ],
   "source": [
    "from sklearn.model_selection import train_test_split\n",
    "import yfinance as yf\n",
    "import pandas_datareader as pdr\n",
    "import pandas as pd\n",
    "import numpy as np\n",
    "\n",
    "snp = yf.Ticker(\"^GSPC\").history(\"5y\", actions=False)\n",
    "snp[\"Daily\"] = (1-(snp[\"Open\"] / snp[\"Close\"]))*100\n",
    "snp[\"Volatility\"] = (1-(snp[\"Low\"]/snp[\"High\"]))\n",
    "snp = snp.drop([\"High\", \"Low\", \"Open\", \"Close\"], axis=\"columns\")\n",
    "df = snp[\"Daily\"]\n",
    "\n",
    "snp[\"Lag1\"] = df.shift(1, fill_value=0)\n",
    "snp[\"Lag2\"] = df.shift(2, fill_value=0)\n",
    "snp[\"Lag3\"] = df.shift(3, fill_value=0)\n",
    "snp[\"Lag4\"] = df.shift(4, fill_value=0)\n",
    "snp[\"Lag5\"] = df.shift(5, fill_value=0)\n",
    "snp"
   ]
  },
  {
   "cell_type": "code",
   "execution_count": 10,
   "metadata": {},
   "outputs": [
    {
     "data": {
      "text/plain": [
       "Date\n",
       "2020-04-09 00:00:00-04:00    1.0\n",
       "2020-04-13 00:00:00-04:00   -1.0\n",
       "2020-04-14 00:00:00-04:00    1.0\n",
       "2020-04-15 00:00:00-04:00   -1.0\n",
       "2020-04-16 00:00:00-04:00    1.0\n",
       "                            ... \n",
       "2021-12-27 00:00:00-05:00    1.0\n",
       "2021-12-28 00:00:00-05:00   -1.0\n",
       "2021-12-29 00:00:00-05:00    1.0\n",
       "2021-12-30 00:00:00-05:00   -1.0\n",
       "2021-12-31 00:00:00-05:00   -1.0\n",
       "Name: Daily, Length: 437, dtype: float64"
      ]
     },
     "execution_count": 10,
     "metadata": {},
     "output_type": "execute_result"
    }
   ],
   "source": [
    "from datetime import datetime\n",
    "import pytz\n",
    "\n",
    "split = datetime(2022, 1, 1,  0, 0, tzinfo=pytz.timezone(\"America/New_York\"))\n",
    "train = snp[snp.index <= split]\n",
    "test = snp[snp.index > split]\n",
    "\n",
    "X_train, y_train = train.drop([\"Daily\"], axis=\"columns\"), np.sign(train[\"Daily\"])\n",
    "\n",
    "X_test, y_test = test.drop([\"Daily\"], axis=\"columns\"), np.sign(test[\"Daily\"])\n",
    "\n",
    "X_train = X_train[5:]\n",
    "y_train = y_train[5:]"
   ]
  },
  {
   "cell_type": "code",
   "execution_count": 11,
   "metadata": {},
   "outputs": [
    {
     "name": "stdout",
     "output_type": "stream",
     "text": [
      "              precision    recall  f1-score   support\n",
      "\n",
      "        -1.0       0.54      0.08      0.14       386\n",
      "         1.0       0.53      0.94      0.68       428\n",
      "\n",
      "    accuracy                           0.53       814\n",
      "   macro avg       0.54      0.51      0.41       814\n",
      "weighted avg       0.54      0.53      0.42       814\n",
      "\n"
     ]
    },
    {
     "data": {
      "text/plain": [
       "<sklearn.metrics._plot.confusion_matrix.ConfusionMatrixDisplay at 0x7f88ef0bc590>"
      ]
     },
     "execution_count": 11,
     "metadata": {},
     "output_type": "execute_result"
    },
    {
     "data": {
      "image/png": "[encoded data removed]",
      "text/plain": [
       "<Figure size 640x480 with 2 Axes>"
      ]
     },
     "metadata": {},
     "output_type": "display_data"
    }
   ],
   "source": [
    "from sklearn.naive_bayes import GaussianNB\n",
    "from sklearn.metrics import ConfusionMatrixDisplay, confusion_matrix, classification_report\n",
    "\n",
    "model = GaussianNB()\n",
    "model.fit(X_train, y_train)\n",
    "\n",
    "y_pred = model.predict(X_test)\n",
    "\n",
    "print(classification_report(y_test, y_pred))\n",
    "cm = confusion_matrix(y_test, y_pred)\n",
    "ConfusionMatrixDisplay(cm).plot()"
   ]
  },
  {
   "cell_type": "code",
   "execution_count": 12,
   "metadata": {},
   "outputs": [
    {
     "name": "stdout",
     "output_type": "stream",
     "text": [
      "              precision    recall  f1-score   support\n",
      "\n",
      "        -1.0       0.55      0.48      0.51       386\n",
      "         1.0       0.58      0.64      0.61       428\n",
      "\n",
      "    accuracy                           0.57       814\n",
      "   macro avg       0.56      0.56      0.56       814\n",
      "weighted avg       0.56      0.57      0.56       814\n",
      "\n"
     ]
    },
    {
     "data": {
      "text/plain": [
       "<sklearn.metrics._plot.confusion_matrix.ConfusionMatrixDisplay at 0x7f88e7f51a90>"
      ]
     },
     "execution_count": 12,
     "metadata": {},
     "output_type": "execute_result"
    },
    {
     "data": {
      "image/png": "[encoded data removed]",
      "text/plain": [
       "<Figure size 640x480 with 2 Axes>"
      ]
     },
     "metadata": {},
     "output_type": "display_data"
    }
   ],
   "source": [
    "from sklearn.naive_bayes import ComplementNB\n",
    "from sklearn.preprocessing import MinMaxScaler\n",
    "model = ComplementNB()\n",
    "scaler = MinMaxScaler()\n",
    "\n",
    "scaled_X_train = scaler.fit_transform(X_train)\n",
    "scaled_X_test = scaler.transform(X_test)\n",
    "model.fit(scaled_X_train, y_train)\n",
    "y_pred = model.predict(scaled_X_test)\n",
    "\n",
    "print(classification_report(y_test, y_pred))\n",
    "cm = confusion_matrix(y_test, y_pred)\n",
    "ConfusionMatrixDisplay(cm).plot()"
   ]
  },
  {
   "cell_type": "code",
   "execution_count": 13,
   "metadata": {},
   "outputs": [
    {
     "name": "stdout",
     "output_type": "stream",
     "text": [
      "              precision    recall  f1-score   support\n",
      "\n",
      "        -1.0       0.45      0.15      0.22       386\n",
      "         1.0       0.52      0.84      0.64       428\n",
      "\n",
      "    accuracy                           0.51       814\n",
      "   macro avg       0.49      0.49      0.43       814\n",
      "weighted avg       0.49      0.51      0.44       814\n",
      "\n"
     ]
    },
    {
     "data": {
      "text/plain": [
       "<sklearn.metrics._plot.confusion_matrix.ConfusionMatrixDisplay at 0x7f88e7567d90>"
      ]
     },
     "execution_count": 13,
     "metadata": {},
     "output_type": "execute_result"
    },
    {
     "data": {
      "image/png": "[encoded data removed]",
      "text/plain": [
       "<Figure size 640x480 with 2 Axes>"
      ]
     },
     "metadata": {},
     "output_type": "display_data"
    }
   ],
   "source": [
    "from sklearn.naive_bayes import BernoulliNB\n",
    "model = BernoulliNB()\n",
    "\n",
    "model.fit(X_train, y_train)\n",
    "y_pred = model.predict(X_test)\n",
    "\n",
    "print(classification_report(y_test, y_pred))\n",
    "cm = confusion_matrix(y_test, y_pred)\n",
    "ConfusionMatrixDisplay(cm).plot()"
   ]
  }
 ],
 "metadata": {
  "kernelspec": {
   "display_name": ".venv",
   "language": "python",
   "name": "python3"
  },
  "language_info": {
   "codemirror_mode": {
    "name": "ipython",
    "version": 3
   },
   "file_extension": ".py",
   "mimetype": "text/x-python",
   "name": "python",
   "nbconvert_exporter": "python",
   "pygments_lexer": "ipython3",
   "version": "3.13.1"
  }
 },
 "nbformat": 4,
 "nbformat_minor": 2
}
