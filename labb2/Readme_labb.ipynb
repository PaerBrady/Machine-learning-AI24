{
 "cells": [
  {
   "cell_type": "code",
   "execution_count": 1,
   "metadata": {},
   "outputs": [
    {
     "name": "stdout",
     "output_type": "stream",
     "text": [
      "Five movies that match 'Toy Story 1995':\n",
      "1: Megamind 2010\n",
      "2: Wallace Gromit The Wrong Trousers 1993\n",
      "3: Ice Age 2002\n",
      "4: Road To El Dorado The 2000\n",
      "5: How To Train Your Dragon 2010\n"
     ]
    }
   ],
   "source": [
    "from Movies_reko import hybrid_rekommendation\n",
    "print(hybrid_rekommendation(\"Toy Story 1995\"))"
   ]
  },
  {
   "cell_type": "markdown",
   "metadata": {},
   "source": [
    "# Filmrekommendationssystem\n",
    "\n",
    "## Beskrivning\n",
    "Detta projekt implementerar ett filmrekommendationssystem baserat på textanalys och betygsdata. Systemet använder sig av TF-IDF för att mäta textuell likhet mellan filmer och Cosine Similarity för att identifiera liknande filmer baserat på både text och användarbetyg.\n",
    "\n",
    "## Installation\n",
    "För att köra koden, se till att du har följande Python-paket installerade:\n",
    "\n",
    "```bash\n",
    "pip install pandas numpy nltk scikit-learn\n",
    "```\n",
    "\n",
    "## Dataset\n",
    "Projektet använder följande dataset:\n",
    "- **movies.csv**: Innehåller filminformation (titel, genre, etc.).\n",
    "- **tags.csv**: Innehåller användartaggningar av filmer.\n",
    "- **ratings.csv**: Innehåller användarbetyg för filmer.\n",
    "\n",
    "## Metoder\n",
    "### 1. **Databehandling och Förberedelse**\n",
    "- **Textstädning**: Filmtitlar och genrer rengörs från specialtecken.\n",
    "- **Taggfiltrering**: Endast engelska ord som är längre än två bokstäver behålls.\n",
    "- **Användaraktivitet**: Begränsar till användare som har loggat tillräckligt många taggar och betyg.\n",
    "- **Normalisering av betyg**: Medelbetyg normaliseras mellan 0 och 1.\n",
    "\n",
    "### 2. **Rekommendationsmetoder**\n",
    "#### a) Textbaserad Rekommendation\n",
    "- Skapar en textrepresentation av filmer (genrer, år, taggar, medelbetyg).\n",
    "- Använder **TF-IDF** för att omvandla text till numeriska vektorer.\n",
    "- Beräknar **Cosine Similarity** för att hitta liknande filmer.\n",
    "\n",
    "#### b) Betygsbaserad Rekommendation\n",
    "- Användar-betygsmatris byggs med hjälp av pivot-tabeller.\n",
    "- Cosine Similarity används för att hitta filmer med liknande betygsmönster.\n",
    "\n",
    "#### c) Hybridrekommendation\n",
    "- Kombinerar resultaten från både text- och betygsbaserade rekommendationer.\n",
    "- Prioriterar filmer som hittats i textbaserade rekommendationer vid lika poäng.\n",
    "\n",
    "## Begränsningar\n",
    "- Kräver att en film finns i datasetet för att generera rekommendationer.\n",
    "- Om en film saknar betyg kan enbart textbaserade rekommendationer användas.\n",
    "- TF-IDF-modellen kan tappa betydelse om datasetet innehåller för få taggar.\n",
    "\n",
    "## Användning\n",
    "För att få rekommendationer för en film:\n",
    "```python\n",
    "rekommendera(\"The Matrix\", antal=5, typ=\"text\")\n",
    "```\n",
    "För hybridrekommendation:\n",
    "```python\n",
    "hybrid_rekommendation(\"The Matrix\", antal=5)"
   ]
  }
 ],
 "metadata": {
  "kernelspec": {
   "display_name": "Python 3",
   "language": "python",
   "name": "python3"
  },
  "language_info": {
   "codemirror_mode": {
    "name": "ipython",
    "version": 3
   },
   "file_extension": ".py",
   "mimetype": "text/x-python",
   "name": "python",
   "nbconvert_exporter": "python",
   "pygments_lexer": "ipython3",
   "version": "3.13.2"
  }
 },
 "nbformat": 4,
 "nbformat_minor": 2
}
